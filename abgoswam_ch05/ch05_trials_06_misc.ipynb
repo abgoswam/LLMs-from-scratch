{
 "cells": [
  {
   "cell_type": "code",
   "execution_count": 1,
   "id": "6a0a6e49",
   "metadata": {},
   "outputs": [
    {
     "name": "stdout",
     "output_type": "stream",
     "text": [
      "First item: 10\n",
      "Second item: 20\n",
      "Iterating: 10\n",
      "Iterating: 20\n",
      "Iterating: 30\n",
      "Iterating: 40\n"
     ]
    }
   ],
   "source": [
    "# Define a list\n",
    "my_list = [10, 20, 30, 40]\n",
    "\n",
    "# Create an iterator from the list\n",
    "my_iterator = iter(my_list)\n",
    "\n",
    "# Use next() to get the first item\n",
    "first_item = next(my_iterator)\n",
    "print(\"First item:\", first_item)  # Output: 10\n",
    "\n",
    "# Use next() again to get the second item\n",
    "second_item = next(my_iterator)\n",
    "print(\"Second item:\", second_item)  # Output: 20\n",
    "\n",
    "# If you iterate over the list again, it starts from the beginning\n",
    "for item in my_list:\n",
    "    print(\"Iterating:\", item)\n",
    "# Output:\n",
    "# Iterating: 10\n",
    "# Iterating: 20\n",
    "# Iterating: 30\n",
    "# Iterating: 40"
   ]
  },
  {
   "cell_type": "code",
   "execution_count": null,
   "id": "2c56293d",
   "metadata": {},
   "outputs": [],
   "source": []
  }
 ],
 "metadata": {
  "kernelspec": {
   "display_name": "LLMS_ch05",
   "language": "python",
   "name": "python3"
  },
  "language_info": {
   "codemirror_mode": {
    "name": "ipython",
    "version": 3
   },
   "file_extension": ".py",
   "mimetype": "text/x-python",
   "name": "python",
   "nbconvert_exporter": "python",
   "pygments_lexer": "ipython3",
   "version": "3.10.18"
  }
 },
 "nbformat": 4,
 "nbformat_minor": 5
}
