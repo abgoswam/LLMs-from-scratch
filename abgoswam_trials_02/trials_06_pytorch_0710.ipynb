{
 "cells": [
  {
   "cell_type": "code",
   "execution_count": 6,
   "id": "ab0448b2",
   "metadata": {},
   "outputs": [
    {
     "name": "stdout",
     "output_type": "stream",
     "text": [
      "[Parameter containing:\n",
      "tensor([[-0.1221,  0.8598,  0.7877],\n",
      "        [-1.5081,  0.4644,  1.0255],\n",
      "        [-0.7029, -0.0308,  0.2789]], requires_grad=True), Parameter containing:\n",
      "tensor([0., 0., 0.], requires_grad=True)]\n"
     ]
    }
   ],
   "source": [
    "import torch\n",
    "import torch.nn as nn\n",
    "\n",
    "class MyModel(nn.Module):\n",
    "    def __init__(self):\n",
    "        super().__init__()\n",
    "        self.weight = nn.Parameter(torch.randn(3, 3))\n",
    "        self.bias = nn.Parameter(torch.zeros(3))\n",
    "\n",
    "    def forward(self, x):\n",
    "        return x @ self.weight + self.bias\n",
    "\n",
    "model = MyModel()\n",
    "print(list(model.parameters()))  # Shows weight and bias\n"
   ]
  },
  {
   "cell_type": "code",
   "execution_count": null,
   "id": "a3e0da5a",
   "metadata": {},
   "outputs": [],
   "source": []
  }
 ],
 "metadata": {
  "kernelspec": {
   "display_name": "pytorch_gpu_0710",
   "language": "python",
   "name": "python3"
  },
  "language_info": {
   "codemirror_mode": {
    "name": "ipython",
    "version": 3
   },
   "file_extension": ".py",
   "mimetype": "text/x-python",
   "name": "python",
   "nbconvert_exporter": "python",
   "pygments_lexer": "ipython3",
   "version": "3.10.18"
  }
 },
 "nbformat": 4,
 "nbformat_minor": 5
}
