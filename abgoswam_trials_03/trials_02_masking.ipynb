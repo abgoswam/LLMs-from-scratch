{
 "cells": [
  {
   "cell_type": "code",
   "execution_count": 14,
   "id": "0f2e1f7d",
   "metadata": {},
   "outputs": [
    {
     "name": "stdout",
     "output_type": "stream",
     "text": [
      "True\n",
      "tensor([[ 0.8739, -0.4301,  0.1873, -1.0778],\n",
      "        [ 1.1944,  0.6228, -1.9724, -0.9417],\n",
      "        [-0.2969,  1.1913, -0.2543, -0.4689],\n",
      "        [ 0.8337,  1.2896, -0.4328,  1.2011]])\n",
      "4\n",
      "4\n"
     ]
    }
   ],
   "source": [
    "import torch\n",
    "\n",
    "print(torch.cuda.is_available() )\n",
    "a = torch.randn(4, 4)\n",
    "n = a.shape[0]\n",
    "\n",
    "print(a)\n",
    "print(n)\n",
    "print(a.size(0))"
   ]
  },
  {
   "cell_type": "code",
   "execution_count": 15,
   "id": "8a6dea82",
   "metadata": {},
   "outputs": [
    {
     "name": "stdout",
     "output_type": "stream",
     "text": [
      "tensor([[1., 1., 1., 1.],\n",
      "        [1., 1., 1., 1.],\n",
      "        [1., 1., 1., 1.],\n",
      "        [1., 1., 1., 1.]])\n"
     ]
    }
   ],
   "source": [
    "mask = torch.ones(n , n)\n",
    "print(mask)"
   ]
  },
  {
   "cell_type": "code",
   "execution_count": 16,
   "id": "79b3a2a5",
   "metadata": {},
   "outputs": [
    {
     "data": {
      "text/plain": [
       "tensor([[ 0.8739, -0.4301,  0.1873, -1.0778],\n",
       "        [ 0.0000,  0.6228, -1.9724, -0.9417],\n",
       "        [ 0.0000,  0.0000, -0.2543, -0.4689],\n",
       "        [ 0.0000,  0.0000,  0.0000,  1.2011]])"
      ]
     },
     "execution_count": 16,
     "metadata": {},
     "output_type": "execute_result"
    }
   ],
   "source": [
    "torch.triu(a)"
   ]
  },
  {
   "cell_type": "code",
   "execution_count": 25,
   "id": "7e36754a",
   "metadata": {},
   "outputs": [
    {
     "name": "stdout",
     "output_type": "stream",
     "text": [
      "tensor([[ 0.8739,  0.0000,  0.0000,  0.0000],\n",
      "        [ 1.1944,  0.6228,  0.0000,  0.0000],\n",
      "        [-0.2969,  1.1913, -0.2543,  0.0000],\n",
      "        [ 0.8337,  1.2896, -0.4328,  1.2011]])\n",
      "tensor([[ True, False, False, False],\n",
      "        [ True,  True, False, False],\n",
      "        [ True,  True,  True, False],\n",
      "        [ True,  True,  True,  True]])\n"
     ]
    }
   ],
   "source": [
    "tl = torch.tril(a)\n",
    "print(tl)\n",
    "\n",
    "tl_bool =  torch.tril(a).bool()\n",
    "print(tl_bool)"
   ]
  },
  {
   "cell_type": "code",
   "execution_count": 18,
   "id": "f9dd63cf",
   "metadata": {},
   "outputs": [
    {
     "data": {
      "text/plain": [
       "tensor([[ 0.8739, -0.4301,  0.1873, -1.0778],\n",
       "        [ 0.0000,  0.6228, -1.9724, -0.9417],\n",
       "        [ 0.0000,  0.0000, -0.2543, -0.4689],\n",
       "        [ 0.0000,  0.0000,  0.0000,  1.2011]])"
      ]
     },
     "execution_count": 18,
     "metadata": {},
     "output_type": "execute_result"
    }
   ],
   "source": [
    "torch.triu(a)"
   ]
  },
  {
   "cell_type": "code",
   "execution_count": 23,
   "id": "be0b3732",
   "metadata": {},
   "outputs": [
    {
     "name": "stdout",
     "output_type": "stream",
     "text": [
      "tensor([[ 0.0000, -0.4301,  0.1873, -1.0778],\n",
      "        [ 0.0000,  0.0000, -1.9724, -0.9417],\n",
      "        [ 0.0000,  0.0000,  0.0000, -0.4689],\n",
      "        [ 0.0000,  0.0000,  0.0000,  0.0000]])\n",
      "tensor([[False,  True,  True,  True],\n",
      "        [False, False,  True,  True],\n",
      "        [False, False, False,  True],\n",
      "        [False, False, False, False]])\n"
     ]
    }
   ],
   "source": [
    "tu = torch.triu(a, diagonal=1)\n",
    "print(tu)\n",
    "\n",
    "tu_bool = tu.bool()\n",
    "print(tu_bool)"
   ]
  },
  {
   "cell_type": "code",
   "execution_count": 24,
   "id": "231ff686",
   "metadata": {},
   "outputs": [
    {
     "data": {
      "text/plain": [
       "tensor([[ 0.8739,    -inf,    -inf,    -inf],\n",
       "        [ 1.1944,  0.6228,    -inf,    -inf],\n",
       "        [-0.2969,  1.1913, -0.2543,    -inf],\n",
       "        [ 0.8337,  1.2896, -0.4328,  1.2011]])"
      ]
     },
     "execution_count": 24,
     "metadata": {},
     "output_type": "execute_result"
    }
   ],
   "source": [
    "torch.masked_fill(a, tu_bool, -torch.inf)"
   ]
  },
  {
   "cell_type": "code",
   "execution_count": null,
   "id": "aaf2b27c",
   "metadata": {},
   "outputs": [],
   "source": []
  }
 ],
 "metadata": {
  "kernelspec": {
   "display_name": "oumi",
   "language": "python",
   "name": "python3"
  },
  "language_info": {
   "codemirror_mode": {
    "name": "ipython",
    "version": 3
   },
   "file_extension": ".py",
   "mimetype": "text/x-python",
   "name": "python",
   "nbconvert_exporter": "python",
   "pygments_lexer": "ipython3",
   "version": "3.10.18"
  }
 },
 "nbformat": 4,
 "nbformat_minor": 5
}
