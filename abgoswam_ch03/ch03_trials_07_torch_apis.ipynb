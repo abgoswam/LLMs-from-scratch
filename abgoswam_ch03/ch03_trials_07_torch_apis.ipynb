{
 "cells": [
  {
   "cell_type": "code",
   "execution_count": 1,
   "id": "385fc316",
   "metadata": {},
   "outputs": [
    {
     "data": {
      "text/plain": [
       "tensor([0.0900, 0.2447, 0.6652])"
      ]
     },
     "execution_count": 1,
     "metadata": {},
     "output_type": "execute_result"
    }
   ],
   "source": [
    "import torch\n",
    "\n",
    "x = torch.tensor([1.0, 2.0, 3.0])\n",
    "torch.softmax(x, dim=0)\n"
   ]
  },
  {
   "cell_type": "code",
   "execution_count": 2,
   "id": "23bca2b7",
   "metadata": {},
   "outputs": [
    {
     "data": {
      "text/plain": [
       "tensor([0.0900, 0.2447, 0.6652])"
      ]
     },
     "execution_count": 2,
     "metadata": {},
     "output_type": "execute_result"
    }
   ],
   "source": [
    "import torch\n",
    "import torch.nn.functional as F\n",
    "\n",
    "x = torch.tensor([1.0, 2.0, 3.0])\n",
    "F.softmax(x, dim=0)\n"
   ]
  },
  {
   "cell_type": "code",
   "execution_count": 3,
   "id": "6ae98d8c",
   "metadata": {},
   "outputs": [
    {
     "data": {
      "text/plain": [
       "tensor([0.0900, 0.2447, 0.6652])"
      ]
     },
     "execution_count": 3,
     "metadata": {},
     "output_type": "execute_result"
    }
   ],
   "source": [
    "import torch\n",
    "import torch.nn as nn\n",
    "\n",
    "m = nn.Softmax(dim=0)\n",
    "x = torch.tensor([1.0, 2.0, 3.0])\n",
    "m(x)\n"
   ]
  },
  {
   "cell_type": "code",
   "execution_count": 8,
   "id": "41392ee2",
   "metadata": {},
   "outputs": [
    {
     "name": "stdout",
     "output_type": "stream",
     "text": [
      "tensor([[-1.6103, -0.0122,  0.1501, -0.1823],\n",
      "        [ 0.7332, -1.2879,  1.5409, -0.1080],\n",
      "        [-1.6033, -2.4220,  0.1667,  0.2856],\n",
      "        [-0.6694, -0.1229, -0.2937, -1.4828]])\n"
     ]
    }
   ],
   "source": [
    "a = torch.randn(4, 4)\n",
    "print(a)"
   ]
  },
  {
   "cell_type": "code",
   "execution_count": 9,
   "id": "19a5fd31",
   "metadata": {},
   "outputs": [
    {
     "data": {
      "text/plain": [
       "tensor([[-1.6103,  0.0000,  0.0000,  0.0000],\n",
       "        [ 0.7332, -1.2879,  0.0000,  0.0000],\n",
       "        [-1.6033, -2.4220,  0.1667,  0.0000],\n",
       "        [-0.6694, -0.1229, -0.2937, -1.4828]])"
      ]
     },
     "execution_count": 9,
     "metadata": {},
     "output_type": "execute_result"
    }
   ],
   "source": [
    "torch.tril(a)"
   ]
  },
  {
   "cell_type": "code",
   "execution_count": 10,
   "id": "43c556e2",
   "metadata": {},
   "outputs": [
    {
     "data": {
      "text/plain": [
       "tensor([[-1.6103, -0.0122,  0.0000,  0.0000],\n",
       "        [ 0.7332, -1.2879,  1.5409,  0.0000],\n",
       "        [-1.6033, -2.4220,  0.1667,  0.2856],\n",
       "        [-0.6694, -0.1229, -0.2937, -1.4828]])"
      ]
     },
     "execution_count": 10,
     "metadata": {},
     "output_type": "execute_result"
    }
   ],
   "source": [
    "torch.tril(a, diagonal=1)"
   ]
  },
  {
   "cell_type": "code",
   "execution_count": 11,
   "id": "14c6949c",
   "metadata": {},
   "outputs": [
    {
     "data": {
      "text/plain": [
       "tensor([[-1.6103, -0.0122,  0.1501,  0.0000],\n",
       "        [ 0.7332, -1.2879,  1.5409, -0.1080],\n",
       "        [-1.6033, -2.4220,  0.1667,  0.2856],\n",
       "        [-0.6694, -0.1229, -0.2937, -1.4828]])"
      ]
     },
     "execution_count": 11,
     "metadata": {},
     "output_type": "execute_result"
    }
   ],
   "source": [
    "torch.tril(a, diagonal=2)"
   ]
  },
  {
   "cell_type": "code",
   "execution_count": 12,
   "id": "ea5855b6",
   "metadata": {},
   "outputs": [
    {
     "data": {
      "text/plain": [
       "tensor([[-1.6103, -0.0122,  0.1501, -0.1823],\n",
       "        [ 0.0000, -1.2879,  1.5409, -0.1080],\n",
       "        [ 0.0000,  0.0000,  0.1667,  0.2856],\n",
       "        [ 0.0000,  0.0000,  0.0000, -1.4828]])"
      ]
     },
     "execution_count": 12,
     "metadata": {},
     "output_type": "execute_result"
    }
   ],
   "source": [
    "torch.triu(a)"
   ]
  },
  {
   "cell_type": "code",
   "execution_count": 13,
   "id": "7dc22855",
   "metadata": {},
   "outputs": [
    {
     "data": {
      "text/plain": [
       "tensor([[ 0.0000, -0.0122,  0.1501, -0.1823],\n",
       "        [ 0.0000,  0.0000,  1.5409, -0.1080],\n",
       "        [ 0.0000,  0.0000,  0.0000,  0.2856],\n",
       "        [ 0.0000,  0.0000,  0.0000,  0.0000]])"
      ]
     },
     "execution_count": 13,
     "metadata": {},
     "output_type": "execute_result"
    }
   ],
   "source": [
    "torch.triu(a, diagonal=1)"
   ]
  },
  {
   "cell_type": "code",
   "execution_count": 14,
   "id": "a9e833b4",
   "metadata": {},
   "outputs": [
    {
     "data": {
      "text/plain": [
       "tensor([[0., 1., 1., 1.],\n",
       "        [0., 0., 1., 1.],\n",
       "        [0., 0., 0., 1.],\n",
       "        [0., 0., 0., 0.]])"
      ]
     },
     "execution_count": 14,
     "metadata": {},
     "output_type": "execute_result"
    }
   ],
   "source": [
    "torch.triu(torch.ones(4, 4), diagonal=1)"
   ]
  },
  {
   "cell_type": "code",
   "execution_count": 15,
   "id": "c02ba36e",
   "metadata": {},
   "outputs": [
    {
     "name": "stdout",
     "output_type": "stream",
     "text": [
      "\u001b[0;31mType:\u001b[0m        dtype\n",
      "\u001b[0;31mString form:\u001b[0m torch.bool\n",
      "\u001b[0;31mFile:\u001b[0m        ~/miniconda3/envs/pytorch_gpu_0710/lib/python3.10/site-packages/torch/__init__.py\n",
      "\u001b[0;31mDocstring:\u001b[0m   <no docstring>"
     ]
    }
   ],
   "source": [
    "torch.bool?"
   ]
  },
  {
   "cell_type": "code",
   "execution_count": 18,
   "id": "71683564",
   "metadata": {},
   "outputs": [
    {
     "data": {
      "text/plain": [
       "tensor([0.1142, 0.0420, 0.8438])"
      ]
     },
     "execution_count": 18,
     "metadata": {},
     "output_type": "execute_result"
    }
   ],
   "source": [
    "x = torch.tensor([1.0, 0, 3])\n",
    "x.softmax(dim=0)"
   ]
  },
  {
   "cell_type": "code",
   "execution_count": 28,
   "id": "dc80ea87",
   "metadata": {},
   "outputs": [
    {
     "name": "stdout",
     "output_type": "stream",
     "text": [
      "mask:tensor([[0., 1., 1., 1.],\n",
      "        [0., 0., 1., 1.],\n",
      "        [0., 0., 0., 1.],\n",
      "        [0., 0., 0., 0.]])\n",
      "mask.shape:torch.Size([4, 4])\n"
     ]
    }
   ],
   "source": [
    "mask = torch.triu(torch.ones(4, 4), diagonal=1)\n",
    "print(f\"mask:{mask}\")\n",
    "print(f\"mask.shape:{mask.shape}\")"
   ]
  },
  {
   "cell_type": "code",
   "execution_count": 29,
   "id": "17f06f0b",
   "metadata": {},
   "outputs": [
    {
     "name": "stdout",
     "output_type": "stream",
     "text": [
      "torch.Size([4, 4])\n",
      "torch.Size([4, 4])\n"
     ]
    }
   ],
   "source": [
    "print(a.shape)\n",
    "print(mask.shape)\n",
    "assert a.shape == mask.shape"
   ]
  },
  {
   "cell_type": "code",
   "execution_count": 30,
   "id": "e2eaa5e3",
   "metadata": {},
   "outputs": [
    {
     "name": "stdout",
     "output_type": "stream",
     "text": [
      "tensor([[-1.6103,    -inf,    -inf,    -inf],\n",
      "        [ 0.7332, -1.2879,    -inf,    -inf],\n",
      "        [-1.6033, -2.4220,  0.1667,    -inf],\n",
      "        [-0.6694, -0.1229, -0.2937, -1.4828]])\n"
     ]
    }
   ],
   "source": [
    "masked = torch.masked_fill(a, mask.bool(), -torch.inf)\n",
    "print(masked)"
   ]
  },
  {
   "cell_type": "code",
   "execution_count": 34,
   "id": "498f177e",
   "metadata": {},
   "outputs": [
    {
     "name": "stdout",
     "output_type": "stream",
     "text": [
      "tensor([[-1.6103,    -inf,    -inf,    -inf],\n",
      "        [ 0.7332, -1.2879,    -inf,    -inf],\n",
      "        [-1.6033, -2.4220,  0.1667,    -inf],\n",
      "        [-0.6694, -0.1229, -0.2937, -1.4828]])\n"
     ]
    }
   ],
   "source": [
    "masked = a.masked_fill(mask.bool(), -torch.inf)\n",
    "print(masked)"
   ]
  },
  {
   "cell_type": "code",
   "execution_count": 35,
   "id": "6b9b891f",
   "metadata": {},
   "outputs": [
    {
     "data": {
      "text/plain": [
       "tensor([[False,  True,  True,  True],\n",
       "        [False, False,  True,  True],\n",
       "        [False, False, False,  True],\n",
       "        [False, False, False, False]])"
      ]
     },
     "execution_count": 35,
     "metadata": {},
     "output_type": "execute_result"
    }
   ],
   "source": [
    "mask.bool()"
   ]
  },
  {
   "cell_type": "code",
   "execution_count": 40,
   "id": "9233494c",
   "metadata": {},
   "outputs": [
    {
     "name": "stdout",
     "output_type": "stream",
     "text": [
      "tensor([[ 0., 10.,  0., 10.,  0.,  0.],\n",
      "        [ 0.,  0.,  0., 10.,  0., 10.],\n",
      "        [ 0.,  0.,  0.,  0.,  0.,  0.],\n",
      "        [ 0.,  0.,  0.,  0.,  0.,  0.],\n",
      "        [ 0.,  0.,  0.,  0.,  0.,  0.],\n",
      "        [ 0.,  0.,  0., 10.,  0.,  0.]])\n"
     ]
    }
   ],
   "source": [
    "torch.manual_seed(123)\n",
    "dropout = torch.nn.Dropout(0.9) # dropout rate of 50%\n",
    "example = torch.ones(6, 6) # create a matrix of ones\n",
    "\n",
    "print(dropout(example))"
   ]
  },
  {
   "cell_type": "code",
   "execution_count": null,
   "id": "38a79767",
   "metadata": {},
   "outputs": [],
   "source": []
  }
 ],
 "metadata": {
  "kernelspec": {
   "display_name": "pytorch_gpu_0710",
   "language": "python",
   "name": "python3"
  },
  "language_info": {
   "codemirror_mode": {
    "name": "ipython",
    "version": 3
   },
   "file_extension": ".py",
   "mimetype": "text/x-python",
   "name": "python",
   "nbconvert_exporter": "python",
   "pygments_lexer": "ipython3",
   "version": "3.10.18"
  }
 },
 "nbformat": 4,
 "nbformat_minor": 5
}
